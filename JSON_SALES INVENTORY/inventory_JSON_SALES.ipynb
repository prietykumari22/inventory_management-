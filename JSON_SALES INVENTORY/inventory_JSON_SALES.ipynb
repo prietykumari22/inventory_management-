{
  "nbformat": 4,
  "nbformat_minor": 0,
  "metadata": {
    "colab": {
      "name": "inventory_JSON_SALES.ipynb",
      "provenance": []
    },
    "kernelspec": {
      "name": "python3",
      "display_name": "Python 3"
    },
    "language_info": {
      "name": "python"
    }
  },
  "cells": [
    {
      "cell_type": "code",
      "metadata": {
        "id": "m52x2F4W3eOu"
      },
      "source": [
        "record = { 101 : {\"name\": \"Ballpoint\" , \"category\": \"stationary\", \"price\" : 10,\"quantity\": 20 ,\"discount\": 0},\n",
        "          102 : {\"name\": \"Fountain\" , \"category\": \"stationary\", \"price\" : 20,\"quantity\":  15 ,\"discount\": 0},\n",
        "          103 : {\"name\": \"Gel\" , \"category\": \"stationary\", \"price\" : 15,\"quantity\": 37 ,\"discount\": 0},\n",
        "          104 : {\"name\": \"Active\" , \"category\": \"stationary\", \"price\" : 5,\"quantity\": 68 ,\"discount\": 0},\n",
        "          105 : {\"name\": \"Flux\" , \"category\": \"stationary\", \"price\" : 50,\"quantity\": 62 ,\"discount\": 0},\n",
        "          106 : {\"name\": \"Perk\" , \"category\": \"chocolate\", \"price\" : 10,\"quantity\": 90 ,\"discount\": 0},\n",
        "          107 : {\"name\": \"Bournville\" , \"category\": \"chocolate\", \"price\" : 25,\"quantity\": 100 ,\"discount\": 0},\n",
        "          108 : {\"name\": \"Fuse\" , \"category\": \"chocolate\", \"price\" : 20,\"quantity\": 70 ,\"discount\": 0},\n",
        "          109 : {\"name\": \"Milkbar\" , \"category\": \"chocolate\", \"price\" : 10,\"quantity\": 25 ,\"discount\": 5},\n",
        "          110 : {\"name\": \"Dirymilk\" , \"category\": \"chocolate\", \"price\" : 20,\"quantity\": 80 ,\"discount\": 0},\n",
        "          111 : {\"name\": \"Nestle\" , \"category\": \"chocolate\", \"price\" : 2,\"quantity\": 55 ,\"discount\": 0},\n",
        "          112 : {\"name\": \"Galaxy\" , \"category\": \"chocolate\", \"price\" : 15,\"quantity\": 34 ,\"discount\": 5},\n",
        "          113 : {\"name\": \"Dream\" , \"category\": \"chocolate\", \"price\" : 20,\"quantity\": 50 ,\"discount\": 0},\n",
        "          114 : {\"name\": \"Natraj pencil\" , \"category\": \"stationary\", \"price\" : 5,\"quantity\": 25 ,\"discount\": 0},\n",
        "          115 : {\"name\": \"Camlin\" , \"category\": \"stationary\", \"price\" : 10,\"quantity\": 45 ,\"discount\": 0},\n",
        "          116 : {\"name\": \"Absara pencils\" , \"category\": \"stationary\", \"price\" : 5,\"quantity\": 40 ,\"discount\": 0},\n",
        "          117 : {\"name\": \"Doms\" , \"category\": \"stationary\", \"price\" : 10,\"quantity\": 90 ,\"discount\": 0},\n",
        "          118 : {\"name\": \"Pepsi\" , \"category\": \"Cold-DrinK\", \"price\" : 35,\"quantity\": 60,\"discount\": 10},\n",
        "          119 : {\"name\": \"MiRiNdA\" , \"category\": \"Cold-Dink\", \"price\" : 20,\"quantity\": 20 ,\"discount\": 5},\n",
        "          120 : {\"name\": \"Mazza\" , \"category\": \"Cold-Drink\", \"price\" : 10,\"quantity\": 30,\"discount\": 0},\n",
        "          121 : {\"name\": \"Spirit\" , \"category\": \"Cold-Dribk\", \"price\" : 45,\"quantity\": 65 ,\"discount\": 15},\n",
        "          122 : {\"name\": \"Mountain Dew\" , \"category\": \"Cold-Drink\", \"price\" : 25,\"quantity\": 20 ,\"discount\": 0},\n",
        "          123 : {\"name\": \"Sofas\" , \"category\": \"Furniture\", \"price\" : 150,\"quantity\": 10 ,\"discount\": 0},\n",
        "          124 : {\"name\": \"bean bags\" , \"category\": \"Furniture\", \"price\" : 300,\"quantity\": 50 ,\"discount\": 25},\n",
        "          125 : {\"name\": \"Mattresses\" , \"category\": \"Furniture\", \"price\" : 250,\"quantity\": 35 ,\"discount\": 0},\n",
        "          126 : {\"name\": \"stool\" , \"category\": \"Furniture\", \"price\" : 100,\"quantity\": 20 ,\"discount\": 0},\n",
        "          127 : {\"name\": \"cabinet Drawers\" , \"category\": \"Furniture\", \"price\" : 50,\"quantity\": 10 ,\"discount\": 0},\n",
        "          128 : {\"name\": \"Odonil\" , \"category\": \"home care essential\", \"price\" : 75,\"quantity\": 30,\"discount\": 15},\n",
        "          129 : {\"name\": \"Disinfectant\" , \"category\": \"home care essential\", \"price\" : 100,\"quantity\": 25 ,\"discount\": 20},\n",
        "          130 : {\"name\": \"Disposal gloves\" , \"category\": \"home care essential\", \"price\" : 250,\"quantity\": 20 ,\"discount\": 50 }}\n",
        "\n",
        "\n"
      ],
      "execution_count": 15,
      "outputs": []
    },
    {
      "cell_type": "code",
      "metadata": {
        "id": "gnjrNyXQ3xUI"
      },
      "source": [
        "import json\n",
        "import time"
      ],
      "execution_count": 16,
      "outputs": []
    },
    {
      "cell_type": "code",
      "metadata": {
        "id": "Aal4tdPi3yCp"
      },
      "source": [
        "js = json.dumps(record)"
      ],
      "execution_count": 17,
      "outputs": []
    },
    {
      "cell_type": "code",
      "metadata": {
        "id": "DGYvbsUp35jb"
      },
      "source": [
        "fd = open(\"record.json\",'w')\n",
        "\n",
        "fd.write(js)\n",
        "\n",
        "fd.close()"
      ],
      "execution_count": 18,
      "outputs": []
    },
    {
      "cell_type": "code",
      "metadata": {
        "id": "laMp63lK38rx"
      },
      "source": [
        "# Loading Inventory and Converting it to Dictionary\n",
        "fd = open(\"record.json\",'r')\n",
        "txt=fd.read()\n",
        "\n",
        "fd.close()\n",
        "dct =json.loads(txt)"
      ],
      "execution_count": 19,
      "outputs": []
    },
    {
      "cell_type": "code",
      "metadata": {
        "colab": {
          "base_uri": "https://localhost:8080/"
        },
        "id": "5Yo1cZH-4Bms",
        "outputId": "acff2c4b-3c9b-4a0e-cad8-7337883259bd"
      },
      "source": [
        "##loading the json file in the read mode  \n",
        "fd = open(\"record.json\",'r')\n",
        "txt=fd.read()\n",
        "\n",
        "fd.close()\n",
        "dct=json.loads(txt)\n",
        "print(\"******************************************************\")\n",
        "print(\"******************************************************\")\n",
        "for i in dct.keys(): ##taking the whole diractory showing the data to u that these are all the thing that i am having\n",
        "  print(i,dct[i])\n",
        "print(\"******************************************************\")  \n",
        "# Taking Input from User to Enter what he/she wants to purchase\n",
        "ui_prod =str(input(\"enter the product_id\"))\n",
        "ui_quant = int(input(\"enter the quatity:\"))\n",
        "if (ui_prod in dct.keys()):\n",
        "\n",
        "##Checking If product Exists or not if exist go for this and if do not exist\n",
        "    if (dct[ui_prod]['quantity'] >= ui_quant):        # If actual quantity is greater or equal to the quantity that user has entered then create a bill for the quantity that user has asked\n",
        "       print(\"Name:\",dct[ui_prod]['name'])\n",
        "       print(\"Price:\",dct[ui_prod]['price'])\n",
        "       print(\"Quantity:\", ui_quant)\n",
        "       print(\"------------------------------\")\n",
        "       print(\"Billing Amount:\", dct[ui_prod]['price'] * ui_quant)\n",
        "       dct[ui_prod]['quantity'] = dct[ui_prod]['quantity'] - ui_quant # Updating Inventory\n",
        "##If I'm not having enough Quantity \n",
        "    else:  \n",
        "       print(\"Sorry, We are not having that much of quantity.\")\n",
        "       print(\"We're only having\",dct[ui_prod]['quantity'],\"quantity.\")\n",
        "       print(\"Would you like to purchase or not (Y/N)\")\n",
        "       print(\"******************************************************\") \n",
        "       ch = str(input(\"Y/N\"))\n",
        "##if we are not having enough quatity we will ask from user to purchase the quantity that we are having or not\n",
        "##if user press y we will create the bill for thewhole quantity that user has asked other wise i will say thanku\n",
        "        \n",
        "       if (ch == \"Y\"):                        # If user wants to purchase the quantitry we're having\n",
        "          print(\"Name:\",dct[ui_prod]['name'])\n",
        "          print(\"Price:\",dct[ui_prod]['price'])\n",
        "          print(\"Quantity:\", dct[ui_prod]['quantity'])\n",
        "          print(\"------------------------------\")\n",
        "          print(\"Billing Amount:\", dct[ui_prod]['price'] * dct[ui_prod]['quantity'])\n",
        "## similarly i am also changing the quantity in main database as well means the dict\n",
        "          dct[ui_prod]['quantity'] = 0                          # Updating Inventory\n",
        "\n",
        "       else:                                                \n",
        "          print(\"Thankyou!\") \n",
        "else:                                                               #Entered Product ID Doesn't exists\n",
        "  print(\"------------------------------\")\n",
        "  print(\"Product doesn't exist!\")\n",
        "  print(\"Please enter a valid product id\")\n",
        "  print(\"------------------------------\")  \n",
        "  \n",
        " #updating the whole dictionary in this format ,updating inventory      \n",
        "js = json.dumps(dct)                                                           \n",
        "fd = open('record.json','w')\n",
        "fd.write(js)\n",
        "fd.close()\n",
        "\n",
        "print(\"Data Updated in Inventory File!\")"
      ],
      "execution_count": 20,
      "outputs": [
        {
          "output_type": "stream",
          "name": "stdout",
          "text": [
            "******************************************************\n",
            "******************************************************\n",
            "101 {'name': 'Ballpoint', 'category': 'stationary', 'price': 10, 'quantity': 20, 'discount': 0}\n",
            "102 {'name': 'Fountain', 'category': 'stationary', 'price': 20, 'quantity': 15, 'discount': 0}\n",
            "103 {'name': 'Gel', 'category': 'stationary', 'price': 15, 'quantity': 37, 'discount': 0}\n",
            "104 {'name': 'Active', 'category': 'stationary', 'price': 5, 'quantity': 68, 'discount': 0}\n",
            "105 {'name': 'Flux', 'category': 'stationary', 'price': 50, 'quantity': 62, 'discount': 0}\n",
            "106 {'name': 'Perk', 'category': 'chocolate', 'price': 10, 'quantity': 90, 'discount': 0}\n",
            "107 {'name': 'Bournville', 'category': 'chocolate', 'price': 25, 'quantity': 100, 'discount': 0}\n",
            "108 {'name': 'Fuse', 'category': 'chocolate', 'price': 20, 'quantity': 70, 'discount': 0}\n",
            "109 {'name': 'Milkbar', 'category': 'chocolate', 'price': 10, 'quantity': 25, 'discount': 5}\n",
            "110 {'name': 'Dirymilk', 'category': 'chocolate', 'price': 20, 'quantity': 80, 'discount': 0}\n",
            "111 {'name': 'Nestle', 'category': 'chocolate', 'price': 2, 'quantity': 55, 'discount': 0}\n",
            "112 {'name': 'Galaxy', 'category': 'chocolate', 'price': 15, 'quantity': 34, 'discount': 5}\n",
            "113 {'name': 'Dream', 'category': 'chocolate', 'price': 20, 'quantity': 50, 'discount': 0}\n",
            "114 {'name': 'Natraj pencil', 'category': 'stationary', 'price': 5, 'quantity': 25, 'discount': 0}\n",
            "115 {'name': 'Camlin', 'category': 'stationary', 'price': 10, 'quantity': 45, 'discount': 0}\n",
            "116 {'name': 'Absara pencils', 'category': 'stationary', 'price': 5, 'quantity': 40, 'discount': 0}\n",
            "117 {'name': 'Doms', 'category': 'stationary', 'price': 10, 'quantity': 90, 'discount': 0}\n",
            "118 {'name': 'Pepsi', 'category': 'Cold-DrinK', 'price': 35, 'quantity': 60, 'discount': 10}\n",
            "119 {'name': 'MiRiNdA', 'category': 'Cold-Dink', 'price': 20, 'quantity': 20, 'discount': 5}\n",
            "120 {'name': 'Mazza', 'category': 'Cold-Drink', 'price': 10, 'quantity': 30, 'discount': 0}\n",
            "121 {'name': 'Spirit', 'category': 'Cold-Dribk', 'price': 45, 'quantity': 65, 'discount': 15}\n",
            "122 {'name': 'Mountain Dew', 'category': 'Cold-Drink', 'price': 25, 'quantity': 20, 'discount': 0}\n",
            "123 {'name': 'Sofas', 'category': 'Furniture', 'price': 150, 'quantity': 10, 'discount': 0}\n",
            "124 {'name': 'bean bags', 'category': 'Furniture', 'price': 300, 'quantity': 50, 'discount': 25}\n",
            "125 {'name': 'Mattresses', 'category': 'Furniture', 'price': 250, 'quantity': 35, 'discount': 0}\n",
            "126 {'name': 'stool', 'category': 'Furniture', 'price': 100, 'quantity': 20, 'discount': 0}\n",
            "127 {'name': 'cabinet Drawers', 'category': 'Furniture', 'price': 50, 'quantity': 10, 'discount': 0}\n",
            "128 {'name': 'Odonil', 'category': 'home care essential', 'price': 75, 'quantity': 30, 'discount': 15}\n",
            "129 {'name': 'Disinfectant', 'category': 'home care essential', 'price': 100, 'quantity': 25, 'discount': 20}\n",
            "130 {'name': 'Disposal gloves', 'category': 'home care essential', 'price': 250, 'quantity': 20, 'discount': 50}\n",
            "******************************************************\n",
            "enter the product_id119\n",
            "enter the quatity:20\n",
            "Name: MiRiNdA\n",
            "Price: 20\n",
            "Quantity: 20\n",
            "------------------------------\n",
            "Billing Amount: 400\n",
            "Data Updated in Inventory File!\n"
          ]
        }
      ]
    },
    {
      "cell_type": "markdown",
      "metadata": {
        "id": "Z23vGG314qHM"
      },
      "source": [
        "how the sales process will go.we can create sales empty dictionary and feeding the values into that particular dictionary, but this is not the optimal approach the optimal approach wouls be.\n",
        "\n",
        "\n",
        "*  to create a sales file ,we can first of all check if sales is there in inventory or not if it is there lets check if we cqn create empty sales or not.\n",
        "*first of all we will create a empty sales file i.e sales ={} empty dictionary i in that particular dictionary we are having an empty dictionary\n",
        "i am opening a file in write mode taking the file descriptor i.e fd\n",
        "\n"
      ]
    },
    {
      "cell_type": "code",
      "metadata": {
        "id": "Et9H-UPg4KbB"
      },
      "source": [
        "##this will create a sales .json file\n",
        "sales = {}\n",
        "\n",
        "sales = json.dumps(sales) ##creating dictionary back into string and is function we will pass sales\n",
        "\n",
        "fd = open(\"sales.json\", 'w')\n",
        "fd.write(sales)\n",
        "fd.close()"
      ],
      "execution_count": 21,
      "outputs": []
    },
    {
      "cell_type": "code",
      "metadata": {
        "id": "bHe_w_8m8hh5"
      },
      "source": [
        "#to check it is working or not open the sales file in \"read mode\"\n",
        "fd=open(\"sales.json\",'r') #opening the file \n",
        "txt=fd.read()                    #writing the file\n",
        "fd.close()               #closing the file\n",
        "\n",
        "#reading the transction from sales file\n",
        "sales = json.loads(txt)  #we can create the dictionary with the use as sales,the purpose of it is just creating the sales dictin the sales we are haing empty dict"
      ],
      "execution_count": 22,
      "outputs": []
    },
    {
      "cell_type": "code",
      "metadata": {
        "colab": {
          "base_uri": "https://localhost:8080/"
        },
        "id": "jpne2yNG9laa",
        "outputId": "2e9cb598-4342-4afc-9ace-4efaa82d0c6a"
      },
      "source": [
        "sales ##here we got the empty sales file we are having in form of dictionary after creating empty dictionary we can add new transction into it "
      ],
      "execution_count": 23,
      "outputs": [
        {
          "output_type": "execute_result",
          "data": {
            "text/plain": [
              "{}"
            ]
          },
          "metadata": {},
          "execution_count": 23
        }
      ]
    },
    {
      "cell_type": "markdown",
      "metadata": {
        "id": "nmdz2Fy_-5tX"
      },
      "source": [
        "this is the sales file we can create in the beginning owhen you do not have any record once you have the record  .we will start adding the record into txt file. so we have creared the json file sales.json"
      ]
    },
    {
      "cell_type": "markdown",
      "metadata": {
        "id": "ND_z_kyMCWam"
      },
      "source": [
        "here the sales file is empty whenever someone purcgasing something we are going to add the purchsed item in sales file"
      ]
    },
    {
      "cell_type": "code",
      "metadata": {
        "colab": {
          "base_uri": "https://localhost:8080/"
        },
        "id": "3lQH2tuF9n7j",
        "outputId": "8edb809b-cd79-4d04-c113-837af75267ba"
      },
      "source": [
        "len(sales) #we are haing no transction"
      ],
      "execution_count": 24,
      "outputs": [
        {
          "output_type": "execute_result",
          "data": {
            "text/plain": [
              "0"
            ]
          },
          "metadata": {},
          "execution_count": 24
        }
      ]
    },
    {
      "cell_type": "code",
      "metadata": {
        "colab": {
          "base_uri": "https://localhost:8080/"
        },
        "id": "ktuJeEjEC7cf",
        "outputId": "a6762f8f-953d-45b4-d8b8-c82150e0e047"
      },
      "source": [
        "len(sales)+1 #we have no transction we will add one into it thsis will give a no if u want to add the first transction then the transction id shouls be 1\n",
        "#if we are having one tranction already there in our inventory then  the next transction would be len(sales)+1 i.e 1+1=2 this is how we add new transction into sales dictionary "
      ],
      "execution_count": 25,
      "outputs": [
        {
          "output_type": "execute_result",
          "data": {
            "text/plain": [
              "1"
            ]
          },
          "metadata": {},
          "execution_count": 25
        }
      ]
    },
    {
      "cell_type": "code",
      "metadata": {
        "id": "C9l47YKZDUrI"
      },
      "source": [
        "#this is the code that we are going to write to add new new item in our sales dictionary,yhe main thing is how we are going to save it for that purpose we are moing this to original code \n",
        "sales[str(len(sales)+1)] = {'prod_id' : 102,                          # Updating Transection\n",
        "                                  \"time_pr\" :  time.ctime(), \n",
        "                                  'bill' : 300, \n",
        "                                  'quantity' : 15, \n",
        "                                  'price' : 20,\n",
        "                                  'name' :\"Fountain\" }"
      ],
      "execution_count": 26,
      "outputs": []
    },
    {
      "cell_type": "code",
      "metadata": {
        "colab": {
          "base_uri": "https://localhost:8080/"
        },
        "id": "BiZ5mPVfGx1_",
        "outputId": "0409beae-1d5f-49b7-c5f6-4561d12ad099"
      },
      "source": [
        "##loading the json file in the read mode and converting it into dict \n",
        "fd = open(\"record.json\",'r')\n",
        "txt=fd.read()\n",
        "fd.close()\n",
        "dct=json.loads(txt)\n",
        "\n",
        "# Loading Sales and Converting it to Dictionary\n",
        "fd = open(\"sales.json\", 'r')\n",
        "sl = fd.read()\n",
        "fd.close()\n",
        "sales = json.loads(sl)\n",
        "\n",
        "print(\"******************************************************\")\n",
        "print(\"******************************************************\")\n",
        "for i in dct.keys(): ##taking the whole diractory showing the data to u that these are all the thing that i am having\n",
        "  print(i,dct[i])\n",
        "print(\"******************************************************\")  \n",
        "# Taking Input from User to Enter what he/she wants to purchase\n",
        "ui_prod =str(input(\"enter the product_id\"))\n",
        "ui_quant = int(input(\"enter the quatity:\"))\n",
        "if (ui_prod in dct.keys()):\n",
        "\n",
        "##Checking If product Exists or not if exist go for this and if do not exist\n",
        "    if (dct[ui_prod]['quantity'] >= ui_quant):        # If actual quantity is greater or equal to the quantity that user has entered then create a bill for the quantity that user has asked\n",
        "       print(\"Name:\",dct[ui_prod]['name'])\n",
        "       print(\"Price:\",dct[ui_prod]['price'])\n",
        "       print(\"Quantity:\", ui_quant)\n",
        "       print(\"------------------------------\")\n",
        "       print(\"Billing Amount:\", dct[ui_prod]['price'] * ui_quant)\n",
        "       dct[ui_prod]['quantity'] = dct[ui_prod]['quantity'] - ui_quant # Updating Inventory\n",
        "#we are writing this file here coz we want to create a sales file only when a person purchased something,when i am done verifing that \n",
        "#the particular person has purchased somethingwgen the billing is generated and i have updated the main quantity in our record.json file .\n",
        "#once this is done we can say that we are done with transction i can save it insales file \n",
        "       sales[str(len(sales)+1)] = {'prod_id' : ui_prod,                          # Updating Transection\n",
        "                                   \"time_pr\" :  time.ctime(), \n",
        "                                   'bill' : dct[ui_prod]['price'] * ui_quant, \n",
        "                                   'qn' : ui_quant, \n",
        "                                   'pr' : dct[ui_prod]['price'], \n",
        "                                   'name' : dct[ui_prod]['name']}\n",
        "\n",
        "\n",
        "##If I'm not having enough Quantity \n",
        "    else:  \n",
        "       print(\"Sorry, We are not having that much of quantity.\")\n",
        "       print(\"We're only having\",dct[ui_prod]['quantity'],\"quantity.\")\n",
        "       print(\"Would you like to purchase or not (Y/N)\")\n",
        "       print(\"******************************************************\") \n",
        "       ch = str(input(\"Y/N\"))\n",
        "##if we are not having enough quatity we will ask from user to purchase the quantity that we are having or not\n",
        "##if user press y we will create the bill for thewhole quantity that user has asked other wise i will say thanku\n",
        "        \n",
        "       if (ch == \"Y\"):                        # If user wants to purchase the quantitry we're having\n",
        "          print(\"Name:\",dct[ui_prod]['name'])\n",
        "          print(\"Price:\",dct[ui_prod]['price'])\n",
        "          print(\"Quantity:\", dct[ui_prod]['quantity'])\n",
        "          print(\"------------------------------\")\n",
        "          print(\"Billing Amount:\", dct[ui_prod]['price'] * dct[ui_prod]['quantity'])\n",
        "## similarly i am also changing the quantity in main database as well means the dict\n",
        "          dct[ui_prod]['quantity'] = 0                          # Updating Inventory\n",
        "\n",
        "          sales[str(len(sales)+1)] = {'prod_id' : ui_prod,       # Updating Transection means audating sales file again, we only update sales file when someone purcchased it not purchased then do no upload thease file\n",
        "                                      \"time_pr\" :  time.ctime(), \n",
        "                                      'bill' : dct[ui_prod]['price'] * dct[ui_prod]['quantity'], \n",
        "                                      'quantity' : dct[ui_prod]['quantity'], \n",
        "                                      'price' : dct[ui_prod]['price'], \n",
        "                                      'name' : dct[ui_prod]['name']}\n",
        "\n",
        "\n",
        "       else:                                                \n",
        "          print(\"Thankyou!\") \n",
        "else:                                                               #Entered Product ID Doesn't exists\n",
        "  print(\"------------------------------\")\n",
        "  print(\"Product doesn't exist!\")\n",
        "  print(\"Please enter a valid product id\")\n",
        "  print(\"------------------------------\")  \n",
        "\n",
        "sl = json.dumps(sales)                                                          # Updating Sales File\n",
        "fd = open('sales.json','w')\n",
        "fd.write(sl)\n",
        "fd.close()\n",
        "\n",
        "print(\"------------------------------\")\n",
        "print(\"Data Updated in Sales File!\")\n",
        "\n",
        "  \n",
        " #updating the whole dictionary in this format ,updating inventory      \n",
        "js = json.dumps(dct)                                                           \n",
        "fd = open('record.json','w')\n",
        "fd.write(js)\n",
        "fd.close()\n",
        "\n",
        "print(\"Data Updated in Inventory File!\")"
      ],
      "execution_count": 33,
      "outputs": [
        {
          "output_type": "stream",
          "name": "stdout",
          "text": [
            "******************************************************\n",
            "******************************************************\n",
            "101 {'name': 'Ballpoint', 'category': 'stationary', 'price': 10, 'quantity': 20, 'discount': 0}\n",
            "102 {'name': 'Fountain', 'category': 'stationary', 'price': 20, 'quantity': 15, 'discount': 0}\n",
            "103 {'name': 'Gel', 'category': 'stationary', 'price': 15, 'quantity': 37, 'discount': 0}\n",
            "104 {'name': 'Active', 'category': 'stationary', 'price': 5, 'quantity': 68, 'discount': 0}\n",
            "105 {'name': 'Flux', 'category': 'stationary', 'price': 50, 'quantity': 62, 'discount': 0}\n",
            "106 {'name': 'Perk', 'category': 'chocolate', 'price': 10, 'quantity': 90, 'discount': 0}\n",
            "107 {'name': 'Bournville', 'category': 'chocolate', 'price': 25, 'quantity': 100, 'discount': 0}\n",
            "108 {'name': 'Fuse', 'category': 'chocolate', 'price': 20, 'quantity': 70, 'discount': 0}\n",
            "109 {'name': 'Milkbar', 'category': 'chocolate', 'price': 10, 'quantity': 25, 'discount': 5}\n",
            "110 {'name': 'Dirymilk', 'category': 'chocolate', 'price': 20, 'quantity': 80, 'discount': 0}\n",
            "111 {'name': 'Nestle', 'category': 'chocolate', 'price': 2, 'quantity': 55, 'discount': 0}\n",
            "112 {'name': 'Galaxy', 'category': 'chocolate', 'price': 15, 'quantity': 34, 'discount': 5}\n",
            "113 {'name': 'Dream', 'category': 'chocolate', 'price': 20, 'quantity': 50, 'discount': 0}\n",
            "114 {'name': 'Natraj pencil', 'category': 'stationary', 'price': 5, 'quantity': 25, 'discount': 0}\n",
            "115 {'name': 'Camlin', 'category': 'stationary', 'price': 10, 'quantity': 45, 'discount': 0}\n",
            "116 {'name': 'Absara pencils', 'category': 'stationary', 'price': 5, 'quantity': 40, 'discount': 0}\n",
            "117 {'name': 'Doms', 'category': 'stationary', 'price': 10, 'quantity': 90, 'discount': 0}\n",
            "118 {'name': 'Pepsi', 'category': 'Cold-DrinK', 'price': 35, 'quantity': 60, 'discount': 10}\n",
            "119 {'name': 'MiRiNdA', 'category': 'Cold-Dink', 'price': 20, 'quantity': 0, 'discount': 5}\n",
            "120 {'name': 'Mazza', 'category': 'Cold-Drink', 'price': 10, 'quantity': 30, 'discount': 0}\n",
            "121 {'name': 'Spirit', 'category': 'Cold-Dribk', 'price': 45, 'quantity': 65, 'discount': 15}\n",
            "122 {'name': 'Mountain Dew', 'category': 'Cold-Drink', 'price': 25, 'quantity': 20, 'discount': 0}\n",
            "123 {'name': 'Sofas', 'category': 'Furniture', 'price': 150, 'quantity': 10, 'discount': 0}\n",
            "124 {'name': 'bean bags', 'category': 'Furniture', 'price': 300, 'quantity': 5, 'discount': 25}\n",
            "125 {'name': 'Mattresses', 'category': 'Furniture', 'price': 250, 'quantity': 35, 'discount': 0}\n",
            "126 {'name': 'stool', 'category': 'Furniture', 'price': 100, 'quantity': 20, 'discount': 0}\n",
            "127 {'name': 'cabinet Drawers', 'category': 'Furniture', 'price': 50, 'quantity': 10, 'discount': 0}\n",
            "128 {'name': 'Odonil', 'category': 'home care essential', 'price': 75, 'quantity': 30, 'discount': 15}\n",
            "129 {'name': 'Disinfectant', 'category': 'home care essential', 'price': 100, 'quantity': 25, 'discount': 20}\n",
            "130 {'name': 'Disposal gloves', 'category': 'home care essential', 'price': 250, 'quantity': 20, 'discount': 50}\n",
            "******************************************************\n",
            "enter the product_id115\n",
            "enter the quatity:35\n",
            "Name: Camlin\n",
            "Price: 10\n",
            "Quantity: 35\n",
            "------------------------------\n",
            "Billing Amount: 350\n",
            "------------------------------\n",
            "Data Updated in Sales File!\n",
            "Data Updated in Inventory File!\n"
          ]
        }
      ]
    },
    {
      "cell_type": "code",
      "metadata": {
        "colab": {
          "base_uri": "https://localhost:8080/"
        },
        "id": "68J6EWWDO0I8",
        "outputId": "f10a718d-3e3e-42f3-c33d-6c8e325c3eec"
      },
      "source": [
        "dct"
      ],
      "execution_count": 35,
      "outputs": [
        {
          "output_type": "execute_result",
          "data": {
            "text/plain": [
              "{'101': {'category': 'stationary',\n",
              "  'discount': 0,\n",
              "  'name': 'Ballpoint',\n",
              "  'price': 10,\n",
              "  'quantity': 20},\n",
              " '102': {'category': 'stationary',\n",
              "  'discount': 0,\n",
              "  'name': 'Fountain',\n",
              "  'price': 20,\n",
              "  'quantity': 15},\n",
              " '103': {'category': 'stationary',\n",
              "  'discount': 0,\n",
              "  'name': 'Gel',\n",
              "  'price': 15,\n",
              "  'quantity': 37},\n",
              " '104': {'category': 'stationary',\n",
              "  'discount': 0,\n",
              "  'name': 'Active',\n",
              "  'price': 5,\n",
              "  'quantity': 68},\n",
              " '105': {'category': 'stationary',\n",
              "  'discount': 0,\n",
              "  'name': 'Flux',\n",
              "  'price': 50,\n",
              "  'quantity': 62},\n",
              " '106': {'category': 'chocolate',\n",
              "  'discount': 0,\n",
              "  'name': 'Perk',\n",
              "  'price': 10,\n",
              "  'quantity': 90},\n",
              " '107': {'category': 'chocolate',\n",
              "  'discount': 0,\n",
              "  'name': 'Bournville',\n",
              "  'price': 25,\n",
              "  'quantity': 100},\n",
              " '108': {'category': 'chocolate',\n",
              "  'discount': 0,\n",
              "  'name': 'Fuse',\n",
              "  'price': 20,\n",
              "  'quantity': 70},\n",
              " '109': {'category': 'chocolate',\n",
              "  'discount': 5,\n",
              "  'name': 'Milkbar',\n",
              "  'price': 10,\n",
              "  'quantity': 25},\n",
              " '110': {'category': 'chocolate',\n",
              "  'discount': 0,\n",
              "  'name': 'Dirymilk',\n",
              "  'price': 20,\n",
              "  'quantity': 80},\n",
              " '111': {'category': 'chocolate',\n",
              "  'discount': 0,\n",
              "  'name': 'Nestle',\n",
              "  'price': 2,\n",
              "  'quantity': 55},\n",
              " '112': {'category': 'chocolate',\n",
              "  'discount': 5,\n",
              "  'name': 'Galaxy',\n",
              "  'price': 15,\n",
              "  'quantity': 34},\n",
              " '113': {'category': 'chocolate',\n",
              "  'discount': 0,\n",
              "  'name': 'Dream',\n",
              "  'price': 20,\n",
              "  'quantity': 50},\n",
              " '114': {'category': 'stationary',\n",
              "  'discount': 0,\n",
              "  'name': 'Natraj pencil',\n",
              "  'price': 5,\n",
              "  'quantity': 25},\n",
              " '115': {'category': 'stationary',\n",
              "  'discount': 0,\n",
              "  'name': 'Camlin',\n",
              "  'price': 10,\n",
              "  'quantity': 10},\n",
              " '116': {'category': 'stationary',\n",
              "  'discount': 0,\n",
              "  'name': 'Absara pencils',\n",
              "  'price': 5,\n",
              "  'quantity': 40},\n",
              " '117': {'category': 'stationary',\n",
              "  'discount': 0,\n",
              "  'name': 'Doms',\n",
              "  'price': 10,\n",
              "  'quantity': 90},\n",
              " '118': {'category': 'Cold-DrinK',\n",
              "  'discount': 10,\n",
              "  'name': 'Pepsi',\n",
              "  'price': 35,\n",
              "  'quantity': 60},\n",
              " '119': {'category': 'Cold-Dink',\n",
              "  'discount': 5,\n",
              "  'name': 'MiRiNdA',\n",
              "  'price': 20,\n",
              "  'quantity': 0},\n",
              " '120': {'category': 'Cold-Drink',\n",
              "  'discount': 0,\n",
              "  'name': 'Mazza',\n",
              "  'price': 10,\n",
              "  'quantity': 30},\n",
              " '121': {'category': 'Cold-Dribk',\n",
              "  'discount': 15,\n",
              "  'name': 'Spirit',\n",
              "  'price': 45,\n",
              "  'quantity': 65},\n",
              " '122': {'category': 'Cold-Drink',\n",
              "  'discount': 0,\n",
              "  'name': 'Mountain Dew',\n",
              "  'price': 25,\n",
              "  'quantity': 20},\n",
              " '123': {'category': 'Furniture',\n",
              "  'discount': 0,\n",
              "  'name': 'Sofas',\n",
              "  'price': 150,\n",
              "  'quantity': 10},\n",
              " '124': {'category': 'Furniture',\n",
              "  'discount': 25,\n",
              "  'name': 'bean bags',\n",
              "  'price': 300,\n",
              "  'quantity': 5},\n",
              " '125': {'category': 'Furniture',\n",
              "  'discount': 0,\n",
              "  'name': 'Mattresses',\n",
              "  'price': 250,\n",
              "  'quantity': 35},\n",
              " '126': {'category': 'Furniture',\n",
              "  'discount': 0,\n",
              "  'name': 'stool',\n",
              "  'price': 100,\n",
              "  'quantity': 20},\n",
              " '127': {'category': 'Furniture',\n",
              "  'discount': 0,\n",
              "  'name': 'cabinet Drawers',\n",
              "  'price': 50,\n",
              "  'quantity': 10},\n",
              " '128': {'category': 'home care essential',\n",
              "  'discount': 15,\n",
              "  'name': 'Odonil',\n",
              "  'price': 75,\n",
              "  'quantity': 30},\n",
              " '129': {'category': 'home care essential',\n",
              "  'discount': 20,\n",
              "  'name': 'Disinfectant',\n",
              "  'price': 100,\n",
              "  'quantity': 25},\n",
              " '130': {'category': 'home care essential',\n",
              "  'discount': 50,\n",
              "  'name': 'Disposal gloves',\n",
              "  'price': 250,\n",
              "  'quantity': 20}}"
            ]
          },
          "metadata": {},
          "execution_count": 35
        }
      ]
    },
    {
      "cell_type": "code",
      "metadata": {
        "colab": {
          "base_uri": "https://localhost:8080/"
        },
        "id": "wbjTlFbvPL4h",
        "outputId": "833cab67-f59d-4cb8-ccac-43ac67087983"
      },
      "source": [
        "sales"
      ],
      "execution_count": 36,
      "outputs": [
        {
          "output_type": "execute_result",
          "data": {
            "text/plain": [
              "{'1': {'bill': 300,\n",
              "  'name': 'Fountain',\n",
              "  'price': 20,\n",
              "  'prod_id': 102,\n",
              "  'quantity': 15,\n",
              "  'time_pr': 'Thu Sep 23 19:50:59 2021'},\n",
              " '2': {'bill': 13500,\n",
              "  'name': 'bean bags',\n",
              "  'pr': 300,\n",
              "  'prod_id': '124',\n",
              "  'qn': 45,\n",
              "  'time_pr': 'Thu Sep 23 19:57:07 2021'},\n",
              " '3': {'bill': 350,\n",
              "  'name': 'Camlin',\n",
              "  'pr': 10,\n",
              "  'prod_id': '115',\n",
              "  'qn': 35,\n",
              "  'time_pr': 'Thu Sep 23 20:08:38 2021'}}"
            ]
          },
          "metadata": {},
          "execution_count": 36
        }
      ]
    },
    {
      "cell_type": "markdown",
      "metadata": {
        "id": "6mXhZ0EFP1WR"
      },
      "source": [
        "keep on running the sales file and every time sales file has been added and analyse rhe data has been added or not"
      ]
    },
    {
      "cell_type": "code",
      "metadata": {
        "id": "3XsogQGKPWut"
      },
      "source": [
        "#i want to udate the sales file as well, how i can do it\n",
        "fd=open(\"sales.json\",'r')\n",
        "txt=fd.read()                    \n",
        "fd.close()               \n",
        "\n",
        "#reading the transction from sales file\n",
        "sales = json.loads(txt)"
      ],
      "execution_count": null,
      "outputs": []
    },
    {
      "cell_type": "markdown",
      "metadata": {
        "id": "zBUNVfz0ScDe"
      },
      "source": [
        "after updating doumload the json and sales file and view  on json viewer online "
      ]
    },
    {
      "cell_type": "code",
      "metadata": {
        "id": "56hi3e5kSwzG"
      },
      "source": [
        ""
      ],
      "execution_count": null,
      "outputs": []
    }
  ]
}